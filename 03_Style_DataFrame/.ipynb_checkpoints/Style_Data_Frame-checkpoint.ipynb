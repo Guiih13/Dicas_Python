{
 "cells": [
  {
   "cell_type": "markdown",
   "id": "portable-cycling",
   "metadata": {},
   "source": [
    "> # DataFrame.style\n",
    "> ---"
   ]
  },
  {
   "cell_type": "code",
   "execution_count": 1,
   "id": "forbidden-constant",
   "metadata": {},
   "outputs": [],
   "source": [
    "import pandas as pd \n",
    "import numpy  as np"
   ]
  },
  {
   "cell_type": "code",
   "execution_count": 2,
   "id": "electric-simon",
   "metadata": {},
   "outputs": [
    {
     "data": {
      "text/html": [
       "<div>\n",
       "<style scoped>\n",
       "    .dataframe tbody tr th:only-of-type {\n",
       "        vertical-align: middle;\n",
       "    }\n",
       "\n",
       "    .dataframe tbody tr th {\n",
       "        vertical-align: top;\n",
       "    }\n",
       "\n",
       "    .dataframe thead th {\n",
       "        text-align: right;\n",
       "    }\n",
       "</style>\n",
       "<table border=\"1\" class=\"dataframe\">\n",
       "  <thead>\n",
       "    <tr style=\"text-align: right;\">\n",
       "      <th></th>\n",
       "      <th>A</th>\n",
       "      <th>B</th>\n",
       "      <th>C</th>\n",
       "      <th>D</th>\n",
       "      <th>E</th>\n",
       "      <th>F</th>\n",
       "    </tr>\n",
       "  </thead>\n",
       "  <tbody>\n",
       "    <tr>\n",
       "      <th>0</th>\n",
       "      <td>7</td>\n",
       "      <td>10</td>\n",
       "      <td>7</td>\n",
       "      <td>6</td>\n",
       "      <td>7</td>\n",
       "      <td>3</td>\n",
       "    </tr>\n",
       "    <tr>\n",
       "      <th>1</th>\n",
       "      <td>4</td>\n",
       "      <td>1</td>\n",
       "      <td>6</td>\n",
       "      <td>1</td>\n",
       "      <td>1</td>\n",
       "      <td>9</td>\n",
       "    </tr>\n",
       "    <tr>\n",
       "      <th>2</th>\n",
       "      <td>3</td>\n",
       "      <td>2</td>\n",
       "      <td>0</td>\n",
       "      <td>5</td>\n",
       "      <td>0</td>\n",
       "      <td>7</td>\n",
       "    </tr>\n",
       "    <tr>\n",
       "      <th>3</th>\n",
       "      <td>4</td>\n",
       "      <td>8</td>\n",
       "      <td>5</td>\n",
       "      <td>8</td>\n",
       "      <td>9</td>\n",
       "      <td>5</td>\n",
       "    </tr>\n",
       "    <tr>\n",
       "      <th>4</th>\n",
       "      <td>5</td>\n",
       "      <td>8</td>\n",
       "      <td>0</td>\n",
       "      <td>8</td>\n",
       "      <td>0</td>\n",
       "      <td>4</td>\n",
       "    </tr>\n",
       "  </tbody>\n",
       "</table>\n",
       "</div>"
      ],
      "text/plain": [
       "   A   B  C  D  E  F\n",
       "0  7  10  7  6  7  3\n",
       "1  4   1  6  1  1  9\n",
       "2  3   2  0  5  0  7\n",
       "3  4   8  5  8  9  5\n",
       "4  5   8  0  8  0  4"
      ]
     },
     "execution_count": 2,
     "metadata": {},
     "output_type": "execute_result"
    }
   ],
   "source": [
    "df = pd.DataFrame(np.random.randint(0,11,size=(10, 6)), columns=list('ABCDEF'))\n",
    "df.head()"
   ]
  },
  {
   "cell_type": "code",
   "execution_count": 3,
   "id": "agricultural-entrepreneur",
   "metadata": {},
   "outputs": [],
   "source": [
    "def highlight(val):\n",
    "    if 0 <= val <= 4:\n",
    "        return 'background-color: lightcoral'\n",
    "    elif 4 < val <= 7:\n",
    "        return 'background-color: lightyellow'\n",
    "    else:\n",
    "        return 'background-color: lightgreen'"
   ]
  },
  {
   "cell_type": "code",
   "execution_count": 4,
   "id": "injured-external",
   "metadata": {
    "scrolled": true
   },
   "outputs": [
    {
     "data": {
      "text/html": [
       "<style  type=\"text/css\" >\n",
       "#T_dc7bf_row0_col0,#T_dc7bf_row0_col2,#T_dc7bf_row0_col3,#T_dc7bf_row0_col4,#T_dc7bf_row1_col2,#T_dc7bf_row2_col3,#T_dc7bf_row2_col5,#T_dc7bf_row3_col2,#T_dc7bf_row3_col5,#T_dc7bf_row4_col0{\n",
       "            background-color:  lightyellow;\n",
       "        }#T_dc7bf_row0_col1,#T_dc7bf_row1_col5,#T_dc7bf_row3_col1,#T_dc7bf_row3_col3,#T_dc7bf_row3_col4,#T_dc7bf_row4_col1,#T_dc7bf_row4_col3{\n",
       "            background-color:  lightgreen;\n",
       "        }#T_dc7bf_row0_col5,#T_dc7bf_row1_col0,#T_dc7bf_row1_col1,#T_dc7bf_row1_col3,#T_dc7bf_row1_col4,#T_dc7bf_row2_col0,#T_dc7bf_row2_col1,#T_dc7bf_row2_col2,#T_dc7bf_row2_col4,#T_dc7bf_row3_col0,#T_dc7bf_row4_col2,#T_dc7bf_row4_col4,#T_dc7bf_row4_col5{\n",
       "            background-color:  lightcoral;\n",
       "        }</style><table id=\"T_dc7bf_\" ><thead>    <tr>        <th class=\"blank level0\" ></th>        <th class=\"col_heading level0 col0\" >A</th>        <th class=\"col_heading level0 col1\" >B</th>        <th class=\"col_heading level0 col2\" >C</th>        <th class=\"col_heading level0 col3\" >D</th>        <th class=\"col_heading level0 col4\" >E</th>        <th class=\"col_heading level0 col5\" >F</th>    </tr></thead><tbody>\n",
       "                <tr>\n",
       "                        <th id=\"T_dc7bf_level0_row0\" class=\"row_heading level0 row0\" >0</th>\n",
       "                        <td id=\"T_dc7bf_row0_col0\" class=\"data row0 col0\" >7</td>\n",
       "                        <td id=\"T_dc7bf_row0_col1\" class=\"data row0 col1\" >10</td>\n",
       "                        <td id=\"T_dc7bf_row0_col2\" class=\"data row0 col2\" >7</td>\n",
       "                        <td id=\"T_dc7bf_row0_col3\" class=\"data row0 col3\" >6</td>\n",
       "                        <td id=\"T_dc7bf_row0_col4\" class=\"data row0 col4\" >7</td>\n",
       "                        <td id=\"T_dc7bf_row0_col5\" class=\"data row0 col5\" >3</td>\n",
       "            </tr>\n",
       "            <tr>\n",
       "                        <th id=\"T_dc7bf_level0_row1\" class=\"row_heading level0 row1\" >1</th>\n",
       "                        <td id=\"T_dc7bf_row1_col0\" class=\"data row1 col0\" >4</td>\n",
       "                        <td id=\"T_dc7bf_row1_col1\" class=\"data row1 col1\" >1</td>\n",
       "                        <td id=\"T_dc7bf_row1_col2\" class=\"data row1 col2\" >6</td>\n",
       "                        <td id=\"T_dc7bf_row1_col3\" class=\"data row1 col3\" >1</td>\n",
       "                        <td id=\"T_dc7bf_row1_col4\" class=\"data row1 col4\" >1</td>\n",
       "                        <td id=\"T_dc7bf_row1_col5\" class=\"data row1 col5\" >9</td>\n",
       "            </tr>\n",
       "            <tr>\n",
       "                        <th id=\"T_dc7bf_level0_row2\" class=\"row_heading level0 row2\" >2</th>\n",
       "                        <td id=\"T_dc7bf_row2_col0\" class=\"data row2 col0\" >3</td>\n",
       "                        <td id=\"T_dc7bf_row2_col1\" class=\"data row2 col1\" >2</td>\n",
       "                        <td id=\"T_dc7bf_row2_col2\" class=\"data row2 col2\" >0</td>\n",
       "                        <td id=\"T_dc7bf_row2_col3\" class=\"data row2 col3\" >5</td>\n",
       "                        <td id=\"T_dc7bf_row2_col4\" class=\"data row2 col4\" >0</td>\n",
       "                        <td id=\"T_dc7bf_row2_col5\" class=\"data row2 col5\" >7</td>\n",
       "            </tr>\n",
       "            <tr>\n",
       "                        <th id=\"T_dc7bf_level0_row3\" class=\"row_heading level0 row3\" >3</th>\n",
       "                        <td id=\"T_dc7bf_row3_col0\" class=\"data row3 col0\" >4</td>\n",
       "                        <td id=\"T_dc7bf_row3_col1\" class=\"data row3 col1\" >8</td>\n",
       "                        <td id=\"T_dc7bf_row3_col2\" class=\"data row3 col2\" >5</td>\n",
       "                        <td id=\"T_dc7bf_row3_col3\" class=\"data row3 col3\" >8</td>\n",
       "                        <td id=\"T_dc7bf_row3_col4\" class=\"data row3 col4\" >9</td>\n",
       "                        <td id=\"T_dc7bf_row3_col5\" class=\"data row3 col5\" >5</td>\n",
       "            </tr>\n",
       "            <tr>\n",
       "                        <th id=\"T_dc7bf_level0_row4\" class=\"row_heading level0 row4\" >4</th>\n",
       "                        <td id=\"T_dc7bf_row4_col0\" class=\"data row4 col0\" >5</td>\n",
       "                        <td id=\"T_dc7bf_row4_col1\" class=\"data row4 col1\" >8</td>\n",
       "                        <td id=\"T_dc7bf_row4_col2\" class=\"data row4 col2\" >0</td>\n",
       "                        <td id=\"T_dc7bf_row4_col3\" class=\"data row4 col3\" >8</td>\n",
       "                        <td id=\"T_dc7bf_row4_col4\" class=\"data row4 col4\" >0</td>\n",
       "                        <td id=\"T_dc7bf_row4_col5\" class=\"data row4 col5\" >4</td>\n",
       "            </tr>\n",
       "    </tbody></table>"
      ],
      "text/plain": [
       "<pandas.io.formats.style.Styler at 0x7f94d9e38f50>"
      ]
     },
     "execution_count": 4,
     "metadata": {},
     "output_type": "execute_result"
    }
   ],
   "source": [
    "df.head().style.applymap(highlight)"
   ]
  },
  {
   "cell_type": "code",
   "execution_count": null,
   "id": "cathedral-venture",
   "metadata": {},
   "outputs": [],
   "source": []
  }
 ],
 "metadata": {
  "hide_input": false,
  "kernelspec": {
   "display_name": "Python 3",
   "language": "python",
   "name": "python3"
  },
  "language_info": {
   "codemirror_mode": {
    "name": "ipython",
    "version": 3
   },
   "file_extension": ".py",
   "mimetype": "text/x-python",
   "name": "python",
   "nbconvert_exporter": "python",
   "pygments_lexer": "ipython3",
   "version": "3.7.10"
  },
  "toc": {
   "base_numbering": 1,
   "nav_menu": {},
   "number_sections": false,
   "sideBar": true,
   "skip_h1_title": false,
   "title_cell": "Table of Contents",
   "title_sidebar": "Contents",
   "toc_cell": false,
   "toc_position": {},
   "toc_section_display": true,
   "toc_window_display": false
  },
  "varInspector": {
   "cols": {
    "lenName": 16,
    "lenType": 16,
    "lenVar": 40
   },
   "kernels_config": {
    "python": {
     "delete_cmd_postfix": "",
     "delete_cmd_prefix": "del ",
     "library": "var_list.py",
     "varRefreshCmd": "print(var_dic_list())"
    },
    "r": {
     "delete_cmd_postfix": ") ",
     "delete_cmd_prefix": "rm(",
     "library": "var_list.r",
     "varRefreshCmd": "cat(var_dic_list()) "
    }
   },
   "types_to_exclude": [
    "module",
    "function",
    "builtin_function_or_method",
    "instance",
    "_Feature"
   ],
   "window_display": false
  }
 },
 "nbformat": 4,
 "nbformat_minor": 5
}
