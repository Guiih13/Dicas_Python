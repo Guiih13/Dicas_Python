{
 "cells": [
  {
   "cell_type": "markdown",
   "id": "portable-cycling",
   "metadata": {},
   "source": [
    "> # DataFrame.style\n",
    "> ---"
   ]
  },
  {
   "cell_type": "code",
   "execution_count": 1,
   "id": "forbidden-constant",
   "metadata": {},
   "outputs": [],
   "source": [
    "import pandas as pd \n",
    "import numpy  as np"
   ]
  },
  {
   "cell_type": "code",
   "execution_count": 2,
   "id": "electric-simon",
   "metadata": {},
   "outputs": [
    {
     "data": {
      "text/html": [
       "<div>\n",
       "<style scoped>\n",
       "    .dataframe tbody tr th:only-of-type {\n",
       "        vertical-align: middle;\n",
       "    }\n",
       "\n",
       "    .dataframe tbody tr th {\n",
       "        vertical-align: top;\n",
       "    }\n",
       "\n",
       "    .dataframe thead th {\n",
       "        text-align: right;\n",
       "    }\n",
       "</style>\n",
       "<table border=\"1\" class=\"dataframe\">\n",
       "  <thead>\n",
       "    <tr style=\"text-align: right;\">\n",
       "      <th></th>\n",
       "      <th>A</th>\n",
       "      <th>B</th>\n",
       "      <th>C</th>\n",
       "      <th>D</th>\n",
       "      <th>E</th>\n",
       "      <th>F</th>\n",
       "      <th>G</th>\n",
       "      <th>H</th>\n",
       "      <th>I</th>\n",
       "      <th>J</th>\n",
       "    </tr>\n",
       "  </thead>\n",
       "  <tbody>\n",
       "    <tr>\n",
       "      <th>0</th>\n",
       "      <td>6</td>\n",
       "      <td>5</td>\n",
       "      <td>4</td>\n",
       "      <td>6</td>\n",
       "      <td>7</td>\n",
       "      <td>9</td>\n",
       "      <td>3</td>\n",
       "      <td>4</td>\n",
       "      <td>0</td>\n",
       "      <td>1</td>\n",
       "    </tr>\n",
       "    <tr>\n",
       "      <th>1</th>\n",
       "      <td>7</td>\n",
       "      <td>8</td>\n",
       "      <td>8</td>\n",
       "      <td>7</td>\n",
       "      <td>10</td>\n",
       "      <td>6</td>\n",
       "      <td>4</td>\n",
       "      <td>5</td>\n",
       "      <td>7</td>\n",
       "      <td>1</td>\n",
       "    </tr>\n",
       "    <tr>\n",
       "      <th>2</th>\n",
       "      <td>5</td>\n",
       "      <td>3</td>\n",
       "      <td>9</td>\n",
       "      <td>10</td>\n",
       "      <td>8</td>\n",
       "      <td>8</td>\n",
       "      <td>9</td>\n",
       "      <td>10</td>\n",
       "      <td>10</td>\n",
       "      <td>6</td>\n",
       "    </tr>\n",
       "    <tr>\n",
       "      <th>3</th>\n",
       "      <td>4</td>\n",
       "      <td>7</td>\n",
       "      <td>5</td>\n",
       "      <td>8</td>\n",
       "      <td>4</td>\n",
       "      <td>1</td>\n",
       "      <td>5</td>\n",
       "      <td>7</td>\n",
       "      <td>10</td>\n",
       "      <td>9</td>\n",
       "    </tr>\n",
       "    <tr>\n",
       "      <th>4</th>\n",
       "      <td>8</td>\n",
       "      <td>7</td>\n",
       "      <td>4</td>\n",
       "      <td>9</td>\n",
       "      <td>7</td>\n",
       "      <td>1</td>\n",
       "      <td>5</td>\n",
       "      <td>6</td>\n",
       "      <td>2</td>\n",
       "      <td>2</td>\n",
       "    </tr>\n",
       "  </tbody>\n",
       "</table>\n",
       "</div>"
      ],
      "text/plain": [
       "   A  B  C   D   E  F  G   H   I  J\n",
       "0  6  5  4   6   7  9  3   4   0  1\n",
       "1  7  8  8   7  10  6  4   5   7  1\n",
       "2  5  3  9  10   8  8  9  10  10  6\n",
       "3  4  7  5   8   4  1  5   7  10  9\n",
       "4  8  7  4   9   7  1  5   6   2  2"
      ]
     },
     "execution_count": 2,
     "metadata": {},
     "output_type": "execute_result"
    }
   ],
   "source": [
    "df = pd.DataFrame(np.random.randint(0,11,size=(5, 10)), columns=list('ABCDEFGHIJ'))\n",
    "df"
   ]
  },
  {
   "cell_type": "code",
   "execution_count": 3,
   "id": "agricultural-entrepreneur",
   "metadata": {},
   "outputs": [],
   "source": [
    "def highlight(val):\n",
    "    if 0 <= val <= 4:\n",
    "        return 'background-color: lightcoral'\n",
    "    elif 4 < val <= 7:\n",
    "        return 'background-color: lightyellow'\n",
    "    else:\n",
    "        return 'background-color: lightgreen'"
   ]
  },
  {
   "cell_type": "code",
   "execution_count": 4,
   "id": "injured-external",
   "metadata": {
    "scrolled": true
   },
   "outputs": [
    {
     "data": {
      "text/html": [
       "<style  type=\"text/css\" >\n",
       "#T_6c43a_row0_col0,#T_6c43a_row0_col1,#T_6c43a_row0_col3,#T_6c43a_row0_col4,#T_6c43a_row1_col0,#T_6c43a_row1_col3,#T_6c43a_row1_col5,#T_6c43a_row1_col7,#T_6c43a_row1_col8,#T_6c43a_row2_col0,#T_6c43a_row2_col9,#T_6c43a_row3_col1,#T_6c43a_row3_col2,#T_6c43a_row3_col6,#T_6c43a_row3_col7,#T_6c43a_row4_col1,#T_6c43a_row4_col4,#T_6c43a_row4_col6,#T_6c43a_row4_col7{\n",
       "            background-color:  lightyellow;\n",
       "        }#T_6c43a_row0_col2,#T_6c43a_row0_col6,#T_6c43a_row0_col7,#T_6c43a_row0_col8,#T_6c43a_row0_col9,#T_6c43a_row1_col6,#T_6c43a_row1_col9,#T_6c43a_row2_col1,#T_6c43a_row3_col0,#T_6c43a_row3_col4,#T_6c43a_row3_col5,#T_6c43a_row4_col2,#T_6c43a_row4_col5,#T_6c43a_row4_col8,#T_6c43a_row4_col9{\n",
       "            background-color:  lightcoral;\n",
       "        }#T_6c43a_row0_col5,#T_6c43a_row1_col1,#T_6c43a_row1_col2,#T_6c43a_row1_col4,#T_6c43a_row2_col2,#T_6c43a_row2_col3,#T_6c43a_row2_col4,#T_6c43a_row2_col5,#T_6c43a_row2_col6,#T_6c43a_row2_col7,#T_6c43a_row2_col8,#T_6c43a_row3_col3,#T_6c43a_row3_col8,#T_6c43a_row3_col9,#T_6c43a_row4_col0,#T_6c43a_row4_col3{\n",
       "            background-color:  lightgreen;\n",
       "        }</style><table id=\"T_6c43a_\" ><thead>    <tr>        <th class=\"blank level0\" ></th>        <th class=\"col_heading level0 col0\" >A</th>        <th class=\"col_heading level0 col1\" >B</th>        <th class=\"col_heading level0 col2\" >C</th>        <th class=\"col_heading level0 col3\" >D</th>        <th class=\"col_heading level0 col4\" >E</th>        <th class=\"col_heading level0 col5\" >F</th>        <th class=\"col_heading level0 col6\" >G</th>        <th class=\"col_heading level0 col7\" >H</th>        <th class=\"col_heading level0 col8\" >I</th>        <th class=\"col_heading level0 col9\" >J</th>    </tr></thead><tbody>\n",
       "                <tr>\n",
       "                        <th id=\"T_6c43a_level0_row0\" class=\"row_heading level0 row0\" >0</th>\n",
       "                        <td id=\"T_6c43a_row0_col0\" class=\"data row0 col0\" >6</td>\n",
       "                        <td id=\"T_6c43a_row0_col1\" class=\"data row0 col1\" >5</td>\n",
       "                        <td id=\"T_6c43a_row0_col2\" class=\"data row0 col2\" >4</td>\n",
       "                        <td id=\"T_6c43a_row0_col3\" class=\"data row0 col3\" >6</td>\n",
       "                        <td id=\"T_6c43a_row0_col4\" class=\"data row0 col4\" >7</td>\n",
       "                        <td id=\"T_6c43a_row0_col5\" class=\"data row0 col5\" >9</td>\n",
       "                        <td id=\"T_6c43a_row0_col6\" class=\"data row0 col6\" >3</td>\n",
       "                        <td id=\"T_6c43a_row0_col7\" class=\"data row0 col7\" >4</td>\n",
       "                        <td id=\"T_6c43a_row0_col8\" class=\"data row0 col8\" >0</td>\n",
       "                        <td id=\"T_6c43a_row0_col9\" class=\"data row0 col9\" >1</td>\n",
       "            </tr>\n",
       "            <tr>\n",
       "                        <th id=\"T_6c43a_level0_row1\" class=\"row_heading level0 row1\" >1</th>\n",
       "                        <td id=\"T_6c43a_row1_col0\" class=\"data row1 col0\" >7</td>\n",
       "                        <td id=\"T_6c43a_row1_col1\" class=\"data row1 col1\" >8</td>\n",
       "                        <td id=\"T_6c43a_row1_col2\" class=\"data row1 col2\" >8</td>\n",
       "                        <td id=\"T_6c43a_row1_col3\" class=\"data row1 col3\" >7</td>\n",
       "                        <td id=\"T_6c43a_row1_col4\" class=\"data row1 col4\" >10</td>\n",
       "                        <td id=\"T_6c43a_row1_col5\" class=\"data row1 col5\" >6</td>\n",
       "                        <td id=\"T_6c43a_row1_col6\" class=\"data row1 col6\" >4</td>\n",
       "                        <td id=\"T_6c43a_row1_col7\" class=\"data row1 col7\" >5</td>\n",
       "                        <td id=\"T_6c43a_row1_col8\" class=\"data row1 col8\" >7</td>\n",
       "                        <td id=\"T_6c43a_row1_col9\" class=\"data row1 col9\" >1</td>\n",
       "            </tr>\n",
       "            <tr>\n",
       "                        <th id=\"T_6c43a_level0_row2\" class=\"row_heading level0 row2\" >2</th>\n",
       "                        <td id=\"T_6c43a_row2_col0\" class=\"data row2 col0\" >5</td>\n",
       "                        <td id=\"T_6c43a_row2_col1\" class=\"data row2 col1\" >3</td>\n",
       "                        <td id=\"T_6c43a_row2_col2\" class=\"data row2 col2\" >9</td>\n",
       "                        <td id=\"T_6c43a_row2_col3\" class=\"data row2 col3\" >10</td>\n",
       "                        <td id=\"T_6c43a_row2_col4\" class=\"data row2 col4\" >8</td>\n",
       "                        <td id=\"T_6c43a_row2_col5\" class=\"data row2 col5\" >8</td>\n",
       "                        <td id=\"T_6c43a_row2_col6\" class=\"data row2 col6\" >9</td>\n",
       "                        <td id=\"T_6c43a_row2_col7\" class=\"data row2 col7\" >10</td>\n",
       "                        <td id=\"T_6c43a_row2_col8\" class=\"data row2 col8\" >10</td>\n",
       "                        <td id=\"T_6c43a_row2_col9\" class=\"data row2 col9\" >6</td>\n",
       "            </tr>\n",
       "            <tr>\n",
       "                        <th id=\"T_6c43a_level0_row3\" class=\"row_heading level0 row3\" >3</th>\n",
       "                        <td id=\"T_6c43a_row3_col0\" class=\"data row3 col0\" >4</td>\n",
       "                        <td id=\"T_6c43a_row3_col1\" class=\"data row3 col1\" >7</td>\n",
       "                        <td id=\"T_6c43a_row3_col2\" class=\"data row3 col2\" >5</td>\n",
       "                        <td id=\"T_6c43a_row3_col3\" class=\"data row3 col3\" >8</td>\n",
       "                        <td id=\"T_6c43a_row3_col4\" class=\"data row3 col4\" >4</td>\n",
       "                        <td id=\"T_6c43a_row3_col5\" class=\"data row3 col5\" >1</td>\n",
       "                        <td id=\"T_6c43a_row3_col6\" class=\"data row3 col6\" >5</td>\n",
       "                        <td id=\"T_6c43a_row3_col7\" class=\"data row3 col7\" >7</td>\n",
       "                        <td id=\"T_6c43a_row3_col8\" class=\"data row3 col8\" >10</td>\n",
       "                        <td id=\"T_6c43a_row3_col9\" class=\"data row3 col9\" >9</td>\n",
       "            </tr>\n",
       "            <tr>\n",
       "                        <th id=\"T_6c43a_level0_row4\" class=\"row_heading level0 row4\" >4</th>\n",
       "                        <td id=\"T_6c43a_row4_col0\" class=\"data row4 col0\" >8</td>\n",
       "                        <td id=\"T_6c43a_row4_col1\" class=\"data row4 col1\" >7</td>\n",
       "                        <td id=\"T_6c43a_row4_col2\" class=\"data row4 col2\" >4</td>\n",
       "                        <td id=\"T_6c43a_row4_col3\" class=\"data row4 col3\" >9</td>\n",
       "                        <td id=\"T_6c43a_row4_col4\" class=\"data row4 col4\" >7</td>\n",
       "                        <td id=\"T_6c43a_row4_col5\" class=\"data row4 col5\" >1</td>\n",
       "                        <td id=\"T_6c43a_row4_col6\" class=\"data row4 col6\" >5</td>\n",
       "                        <td id=\"T_6c43a_row4_col7\" class=\"data row4 col7\" >6</td>\n",
       "                        <td id=\"T_6c43a_row4_col8\" class=\"data row4 col8\" >2</td>\n",
       "                        <td id=\"T_6c43a_row4_col9\" class=\"data row4 col9\" >2</td>\n",
       "            </tr>\n",
       "    </tbody></table>"
      ],
      "text/plain": [
       "<pandas.io.formats.style.Styler at 0x7fd82482b390>"
      ]
     },
     "execution_count": 4,
     "metadata": {},
     "output_type": "execute_result"
    }
   ],
   "source": [
    "df.style.applymap(highlight)"
   ]
  },
  {
   "cell_type": "code",
   "execution_count": null,
   "id": "cathedral-venture",
   "metadata": {},
   "outputs": [],
   "source": []
  }
 ],
 "metadata": {
  "hide_input": false,
  "kernelspec": {
   "display_name": "Python 3",
   "language": "python",
   "name": "python3"
  },
  "language_info": {
   "codemirror_mode": {
    "name": "ipython",
    "version": 3
   },
   "file_extension": ".py",
   "mimetype": "text/x-python",
   "name": "python",
   "nbconvert_exporter": "python",
   "pygments_lexer": "ipython3",
   "version": "3.7.10"
  },
  "toc": {
   "base_numbering": 1,
   "nav_menu": {},
   "number_sections": false,
   "sideBar": true,
   "skip_h1_title": false,
   "title_cell": "Table of Contents",
   "title_sidebar": "Contents",
   "toc_cell": false,
   "toc_position": {},
   "toc_section_display": true,
   "toc_window_display": false
  },
  "varInspector": {
   "cols": {
    "lenName": 16,
    "lenType": 16,
    "lenVar": 40
   },
   "kernels_config": {
    "python": {
     "delete_cmd_postfix": "",
     "delete_cmd_prefix": "del ",
     "library": "var_list.py",
     "varRefreshCmd": "print(var_dic_list())"
    },
    "r": {
     "delete_cmd_postfix": ") ",
     "delete_cmd_prefix": "rm(",
     "library": "var_list.r",
     "varRefreshCmd": "cat(var_dic_list()) "
    }
   },
   "types_to_exclude": [
    "module",
    "function",
    "builtin_function_or_method",
    "instance",
    "_Feature"
   ],
   "window_display": false
  }
 },
 "nbformat": 4,
 "nbformat_minor": 5
}
