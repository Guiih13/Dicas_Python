{
 "cells": [
  {
   "cell_type": "code",
   "execution_count": 27,
   "metadata": {},
   "outputs": [],
   "source": [
    "#### Tratativa ################################\n",
    "import pandas            as pd\n",
    "import numpy             as np\n",
    "import statistics        as st\n",
    "import datetime          as dt\n",
    "import calendar\n",
    "\n",
    "pd.set_option('display.max_columns',500)\n",
    "pd.set_option('display.max_rows',150)\n",
    "pd.set_option('display.max_colwidth',150)\n",
    "\n",
    "### Visualização ##############################\n",
    "import matplotlib.pyplot as plt\n",
    "from matplotlib          import cm\n",
    "import seaborn           as sns\n",
    "\n",
    "plt.style.use('bmh')\n",
    "sns.set_style('darkgrid')\n",
    "sns.set(font_scale = 1.2)\n",
    "\n",
    "### Machine Learning #########################\n",
    "from sklearn.cluster                import KMeans\n",
    "from sklearn.preprocessing          import MinMaxScaler\n",
    "from sklearn.metrics                import classification_report, confusion_matrix, roc_curve, auc, roc_auc_score\n",
    "from sklearn.model_selection        import train_test_split, KFold, RandomizedSearchCV\n",
    "from sklearn                        import preprocessing, metrics\n",
    "from sklearn.feature_selection      import SelectKBest, chi2\n",
    "from sklearn.linear_model           import LogisticRegression\n",
    "from sklearn.ensemble               import RandomForestClassifier, GradientBoostingClassifier, ExtraTreesClassifier\n",
    "\n",
    "### Warnings #########################\n",
    "import warnings\n",
    "warnings.filterwarnings(\"ignore\")"
   ]
  },
  {
   "cell_type": "markdown",
   "metadata": {},
   "source": [
    "**DESAFIO**\n",
    "\n",
    "Escolhemos para você uma base de dados de venda de produtos no e-commerce. A sua\n",
    "missão é construir um dashboard com o máximo de insights sobre **a satisfação dos\n",
    "clientes que compram no e-commerce no Brasil.**"
   ]
  },
  {
   "cell_type": "markdown",
   "metadata": {},
   "source": [
    "<img src=\"../Schema.png\">"
   ]
  },
  {
   "cell_type": "code",
   "execution_count": 2,
   "metadata": {},
   "outputs": [],
   "source": [
    "lista_df = 'REVIEWS PAYMENT ORDERS CUSTOMER PRODUCTS ITEMS SALLER GEOLOCATION'.split()"
   ]
  },
  {
   "cell_type": "code",
   "execution_count": 3,
   "metadata": {},
   "outputs": [],
   "source": [
    "REVIEWS = pd.read_csv('../DADOS/olist_order_reviews_dataset.csv')   # REVIEWS\n",
    "PAYMENT = pd.read_csv('../DADOS/olist_order_payments_dataset.csv')  # PAYMENT\n",
    "ORDERS = pd.read_csv('../DADOS/olist_orders_dataset.csv')           # ORDERS \n",
    "CUSTOMER = pd.read_csv('../DADOS/olist_customers_dataset.csv')      # CUSTOMER\n",
    "PRODUCTS = pd.read_csv('../DADOS/olist_products_dataset.csv')       # PRODUCTS\n",
    "ITEMS = pd.read_csv('../DADOS/olist_order_items_dataset.csv')       # ITEMS\n",
    "SALLER = pd.read_csv('../DADOS/olist_sellers_dataset.csv')          # SALLER\n",
    "GEOLOCATION = pd.read_csv('../DADOS/olist_geolocation_dataset.csv') # GEOLOCATION"
   ]
  },
  {
   "cell_type": "code",
   "execution_count": 4,
   "metadata": {},
   "outputs": [
    {
     "name": "stdout",
     "output_type": "stream",
     "text": [
      "REVIEWS\n"
     ]
    },
    {
     "data": {
      "text/html": [
       "<div>\n",
       "<style scoped>\n",
       "    .dataframe tbody tr th:only-of-type {\n",
       "        vertical-align: middle;\n",
       "    }\n",
       "\n",
       "    .dataframe tbody tr th {\n",
       "        vertical-align: top;\n",
       "    }\n",
       "\n",
       "    .dataframe thead th {\n",
       "        text-align: right;\n",
       "    }\n",
       "</style>\n",
       "<table border=\"1\" class=\"dataframe\">\n",
       "  <thead>\n",
       "    <tr style=\"text-align: right;\">\n",
       "      <th></th>\n",
       "      <th>review_id</th>\n",
       "      <th>order_id</th>\n",
       "      <th>review_score</th>\n",
       "      <th>review_comment_title</th>\n",
       "      <th>review_comment_message</th>\n",
       "      <th>review_creation_date</th>\n",
       "      <th>review_answer_timestamp</th>\n",
       "    </tr>\n",
       "  </thead>\n",
       "  <tbody>\n",
       "    <tr>\n",
       "      <th>0</th>\n",
       "      <td>7bc2406110b926393aa56f80a40eba40</td>\n",
       "      <td>73fc7af87114b39712e6da79b0a377eb</td>\n",
       "      <td>4</td>\n",
       "      <td>NaN</td>\n",
       "      <td>NaN</td>\n",
       "      <td>2018-01-18 00:00:00</td>\n",
       "      <td>2018-01-18 21:46:59</td>\n",
       "    </tr>\n",
       "  </tbody>\n",
       "</table>\n",
       "</div>"
      ],
      "text/plain": [
       "                          review_id                          order_id  \\\n",
       "0  7bc2406110b926393aa56f80a40eba40  73fc7af87114b39712e6da79b0a377eb   \n",
       "\n",
       "   review_score review_comment_title review_comment_message  \\\n",
       "0             4                  NaN                    NaN   \n",
       "\n",
       "  review_creation_date review_answer_timestamp  \n",
       "0  2018-01-18 00:00:00     2018-01-18 21:46:59  "
      ]
     },
     "metadata": {},
     "output_type": "display_data"
    },
    {
     "name": "stdout",
     "output_type": "stream",
     "text": [
      "PAYMENT\n"
     ]
    },
    {
     "data": {
      "text/html": [
       "<div>\n",
       "<style scoped>\n",
       "    .dataframe tbody tr th:only-of-type {\n",
       "        vertical-align: middle;\n",
       "    }\n",
       "\n",
       "    .dataframe tbody tr th {\n",
       "        vertical-align: top;\n",
       "    }\n",
       "\n",
       "    .dataframe thead th {\n",
       "        text-align: right;\n",
       "    }\n",
       "</style>\n",
       "<table border=\"1\" class=\"dataframe\">\n",
       "  <thead>\n",
       "    <tr style=\"text-align: right;\">\n",
       "      <th></th>\n",
       "      <th>order_id</th>\n",
       "      <th>payment_sequential</th>\n",
       "      <th>payment_type</th>\n",
       "      <th>payment_installments</th>\n",
       "      <th>payment_value</th>\n",
       "    </tr>\n",
       "  </thead>\n",
       "  <tbody>\n",
       "    <tr>\n",
       "      <th>0</th>\n",
       "      <td>b81ef226f3fe1789b1e8b2acac839d17</td>\n",
       "      <td>1</td>\n",
       "      <td>credit_card</td>\n",
       "      <td>8</td>\n",
       "      <td>99.33</td>\n",
       "    </tr>\n",
       "  </tbody>\n",
       "</table>\n",
       "</div>"
      ],
      "text/plain": [
       "                           order_id  payment_sequential payment_type  \\\n",
       "0  b81ef226f3fe1789b1e8b2acac839d17                   1  credit_card   \n",
       "\n",
       "   payment_installments  payment_value  \n",
       "0                     8          99.33  "
      ]
     },
     "metadata": {},
     "output_type": "display_data"
    },
    {
     "name": "stdout",
     "output_type": "stream",
     "text": [
      "ORDERS\n"
     ]
    },
    {
     "data": {
      "text/html": [
       "<div>\n",
       "<style scoped>\n",
       "    .dataframe tbody tr th:only-of-type {\n",
       "        vertical-align: middle;\n",
       "    }\n",
       "\n",
       "    .dataframe tbody tr th {\n",
       "        vertical-align: top;\n",
       "    }\n",
       "\n",
       "    .dataframe thead th {\n",
       "        text-align: right;\n",
       "    }\n",
       "</style>\n",
       "<table border=\"1\" class=\"dataframe\">\n",
       "  <thead>\n",
       "    <tr style=\"text-align: right;\">\n",
       "      <th></th>\n",
       "      <th>order_id</th>\n",
       "      <th>customer_id</th>\n",
       "      <th>order_status</th>\n",
       "      <th>order_purchase_timestamp</th>\n",
       "      <th>order_approved_at</th>\n",
       "      <th>order_delivered_carrier_date</th>\n",
       "      <th>order_delivered_customer_date</th>\n",
       "      <th>order_estimated_delivery_date</th>\n",
       "    </tr>\n",
       "  </thead>\n",
       "  <tbody>\n",
       "    <tr>\n",
       "      <th>0</th>\n",
       "      <td>e481f51cbdc54678b7cc49136f2d6af7</td>\n",
       "      <td>9ef432eb6251297304e76186b10a928d</td>\n",
       "      <td>delivered</td>\n",
       "      <td>2017-10-02 10:56:33</td>\n",
       "      <td>2017-10-02 11:07:15</td>\n",
       "      <td>2017-10-04 19:55:00</td>\n",
       "      <td>2017-10-10 21:25:13</td>\n",
       "      <td>2017-10-18 00:00:00</td>\n",
       "    </tr>\n",
       "  </tbody>\n",
       "</table>\n",
       "</div>"
      ],
      "text/plain": [
       "                           order_id                       customer_id  \\\n",
       "0  e481f51cbdc54678b7cc49136f2d6af7  9ef432eb6251297304e76186b10a928d   \n",
       "\n",
       "  order_status order_purchase_timestamp    order_approved_at  \\\n",
       "0    delivered      2017-10-02 10:56:33  2017-10-02 11:07:15   \n",
       "\n",
       "  order_delivered_carrier_date order_delivered_customer_date  \\\n",
       "0          2017-10-04 19:55:00           2017-10-10 21:25:13   \n",
       "\n",
       "  order_estimated_delivery_date  \n",
       "0           2017-10-18 00:00:00  "
      ]
     },
     "metadata": {},
     "output_type": "display_data"
    },
    {
     "name": "stdout",
     "output_type": "stream",
     "text": [
      "CUSTOMER\n"
     ]
    },
    {
     "data": {
      "text/html": [
       "<div>\n",
       "<style scoped>\n",
       "    .dataframe tbody tr th:only-of-type {\n",
       "        vertical-align: middle;\n",
       "    }\n",
       "\n",
       "    .dataframe tbody tr th {\n",
       "        vertical-align: top;\n",
       "    }\n",
       "\n",
       "    .dataframe thead th {\n",
       "        text-align: right;\n",
       "    }\n",
       "</style>\n",
       "<table border=\"1\" class=\"dataframe\">\n",
       "  <thead>\n",
       "    <tr style=\"text-align: right;\">\n",
       "      <th></th>\n",
       "      <th>customer_id</th>\n",
       "      <th>customer_unique_id</th>\n",
       "      <th>customer_zip_code_prefix</th>\n",
       "      <th>customer_city</th>\n",
       "      <th>customer_state</th>\n",
       "    </tr>\n",
       "  </thead>\n",
       "  <tbody>\n",
       "    <tr>\n",
       "      <th>0</th>\n",
       "      <td>06b8999e2fba1a1fbc88172c00ba8bc7</td>\n",
       "      <td>861eff4711a542e4b93843c6dd7febb0</td>\n",
       "      <td>14409</td>\n",
       "      <td>franca</td>\n",
       "      <td>SP</td>\n",
       "    </tr>\n",
       "  </tbody>\n",
       "</table>\n",
       "</div>"
      ],
      "text/plain": [
       "                        customer_id                customer_unique_id  \\\n",
       "0  06b8999e2fba1a1fbc88172c00ba8bc7  861eff4711a542e4b93843c6dd7febb0   \n",
       "\n",
       "   customer_zip_code_prefix customer_city customer_state  \n",
       "0                     14409        franca             SP  "
      ]
     },
     "metadata": {},
     "output_type": "display_data"
    },
    {
     "name": "stdout",
     "output_type": "stream",
     "text": [
      "PRODUCTS\n"
     ]
    },
    {
     "data": {
      "text/html": [
       "<div>\n",
       "<style scoped>\n",
       "    .dataframe tbody tr th:only-of-type {\n",
       "        vertical-align: middle;\n",
       "    }\n",
       "\n",
       "    .dataframe tbody tr th {\n",
       "        vertical-align: top;\n",
       "    }\n",
       "\n",
       "    .dataframe thead th {\n",
       "        text-align: right;\n",
       "    }\n",
       "</style>\n",
       "<table border=\"1\" class=\"dataframe\">\n",
       "  <thead>\n",
       "    <tr style=\"text-align: right;\">\n",
       "      <th></th>\n",
       "      <th>product_id</th>\n",
       "      <th>product_category_name</th>\n",
       "      <th>product_name_lenght</th>\n",
       "      <th>product_description_lenght</th>\n",
       "      <th>product_photos_qty</th>\n",
       "      <th>product_weight_g</th>\n",
       "      <th>product_length_cm</th>\n",
       "      <th>product_height_cm</th>\n",
       "      <th>product_width_cm</th>\n",
       "    </tr>\n",
       "  </thead>\n",
       "  <tbody>\n",
       "    <tr>\n",
       "      <th>0</th>\n",
       "      <td>1e9e8ef04dbcff4541ed26657ea517e5</td>\n",
       "      <td>perfumaria</td>\n",
       "      <td>40.0</td>\n",
       "      <td>287.0</td>\n",
       "      <td>1.0</td>\n",
       "      <td>225.0</td>\n",
       "      <td>16.0</td>\n",
       "      <td>10.0</td>\n",
       "      <td>14.0</td>\n",
       "    </tr>\n",
       "  </tbody>\n",
       "</table>\n",
       "</div>"
      ],
      "text/plain": [
       "                         product_id product_category_name  \\\n",
       "0  1e9e8ef04dbcff4541ed26657ea517e5            perfumaria   \n",
       "\n",
       "   product_name_lenght  product_description_lenght  product_photos_qty  \\\n",
       "0                 40.0                       287.0                 1.0   \n",
       "\n",
       "   product_weight_g  product_length_cm  product_height_cm  product_width_cm  \n",
       "0             225.0               16.0               10.0              14.0  "
      ]
     },
     "metadata": {},
     "output_type": "display_data"
    },
    {
     "name": "stdout",
     "output_type": "stream",
     "text": [
      "ITEMS\n"
     ]
    },
    {
     "data": {
      "text/html": [
       "<div>\n",
       "<style scoped>\n",
       "    .dataframe tbody tr th:only-of-type {\n",
       "        vertical-align: middle;\n",
       "    }\n",
       "\n",
       "    .dataframe tbody tr th {\n",
       "        vertical-align: top;\n",
       "    }\n",
       "\n",
       "    .dataframe thead th {\n",
       "        text-align: right;\n",
       "    }\n",
       "</style>\n",
       "<table border=\"1\" class=\"dataframe\">\n",
       "  <thead>\n",
       "    <tr style=\"text-align: right;\">\n",
       "      <th></th>\n",
       "      <th>order_id</th>\n",
       "      <th>order_item_id</th>\n",
       "      <th>product_id</th>\n",
       "      <th>seller_id</th>\n",
       "      <th>shipping_limit_date</th>\n",
       "      <th>price</th>\n",
       "      <th>freight_value</th>\n",
       "    </tr>\n",
       "  </thead>\n",
       "  <tbody>\n",
       "    <tr>\n",
       "      <th>0</th>\n",
       "      <td>00010242fe8c5a6d1ba2dd792cb16214</td>\n",
       "      <td>1</td>\n",
       "      <td>4244733e06e7ecb4970a6e2683c13e61</td>\n",
       "      <td>48436dade18ac8b2bce089ec2a041202</td>\n",
       "      <td>2017-09-19 09:45:35</td>\n",
       "      <td>58.9</td>\n",
       "      <td>13.29</td>\n",
       "    </tr>\n",
       "  </tbody>\n",
       "</table>\n",
       "</div>"
      ],
      "text/plain": [
       "                           order_id  order_item_id  \\\n",
       "0  00010242fe8c5a6d1ba2dd792cb16214              1   \n",
       "\n",
       "                         product_id                         seller_id  \\\n",
       "0  4244733e06e7ecb4970a6e2683c13e61  48436dade18ac8b2bce089ec2a041202   \n",
       "\n",
       "   shipping_limit_date  price  freight_value  \n",
       "0  2017-09-19 09:45:35   58.9          13.29  "
      ]
     },
     "metadata": {},
     "output_type": "display_data"
    },
    {
     "name": "stdout",
     "output_type": "stream",
     "text": [
      "SALLER\n"
     ]
    },
    {
     "data": {
      "text/html": [
       "<div>\n",
       "<style scoped>\n",
       "    .dataframe tbody tr th:only-of-type {\n",
       "        vertical-align: middle;\n",
       "    }\n",
       "\n",
       "    .dataframe tbody tr th {\n",
       "        vertical-align: top;\n",
       "    }\n",
       "\n",
       "    .dataframe thead th {\n",
       "        text-align: right;\n",
       "    }\n",
       "</style>\n",
       "<table border=\"1\" class=\"dataframe\">\n",
       "  <thead>\n",
       "    <tr style=\"text-align: right;\">\n",
       "      <th></th>\n",
       "      <th>seller_id</th>\n",
       "      <th>seller_zip_code_prefix</th>\n",
       "      <th>seller_city</th>\n",
       "      <th>seller_state</th>\n",
       "    </tr>\n",
       "  </thead>\n",
       "  <tbody>\n",
       "    <tr>\n",
       "      <th>0</th>\n",
       "      <td>3442f8959a84dea7ee197c632cb2df15</td>\n",
       "      <td>13023</td>\n",
       "      <td>campinas</td>\n",
       "      <td>SP</td>\n",
       "    </tr>\n",
       "  </tbody>\n",
       "</table>\n",
       "</div>"
      ],
      "text/plain": [
       "                          seller_id  seller_zip_code_prefix seller_city  \\\n",
       "0  3442f8959a84dea7ee197c632cb2df15                   13023    campinas   \n",
       "\n",
       "  seller_state  \n",
       "0           SP  "
      ]
     },
     "metadata": {},
     "output_type": "display_data"
    },
    {
     "name": "stdout",
     "output_type": "stream",
     "text": [
      "GEOLOCATION\n"
     ]
    },
    {
     "data": {
      "text/html": [
       "<div>\n",
       "<style scoped>\n",
       "    .dataframe tbody tr th:only-of-type {\n",
       "        vertical-align: middle;\n",
       "    }\n",
       "\n",
       "    .dataframe tbody tr th {\n",
       "        vertical-align: top;\n",
       "    }\n",
       "\n",
       "    .dataframe thead th {\n",
       "        text-align: right;\n",
       "    }\n",
       "</style>\n",
       "<table border=\"1\" class=\"dataframe\">\n",
       "  <thead>\n",
       "    <tr style=\"text-align: right;\">\n",
       "      <th></th>\n",
       "      <th>geolocation_zip_code_prefix</th>\n",
       "      <th>geolocation_lat</th>\n",
       "      <th>geolocation_lng</th>\n",
       "      <th>geolocation_city</th>\n",
       "      <th>geolocation_state</th>\n",
       "    </tr>\n",
       "  </thead>\n",
       "  <tbody>\n",
       "    <tr>\n",
       "      <th>0</th>\n",
       "      <td>1037</td>\n",
       "      <td>-23.545621</td>\n",
       "      <td>-46.639292</td>\n",
       "      <td>sao paulo</td>\n",
       "      <td>SP</td>\n",
       "    </tr>\n",
       "  </tbody>\n",
       "</table>\n",
       "</div>"
      ],
      "text/plain": [
       "   geolocation_zip_code_prefix  geolocation_lat  geolocation_lng  \\\n",
       "0                         1037       -23.545621       -46.639292   \n",
       "\n",
       "  geolocation_city geolocation_state  \n",
       "0        sao paulo                SP  "
      ]
     },
     "metadata": {},
     "output_type": "display_data"
    }
   ],
   "source": [
    "for df in lista_df:\n",
    "    print(df)\n",
    "    display(globals()['{}'.format(df)].head(1))"
   ]
  },
  {
   "cell_type": "markdown",
   "metadata": {},
   "source": [
    "<!-- # REVIEWS['order_id'] > PAYMENT['order_id'] > ORDERS['order_id'] > ITEMS['order_id']\n",
    "# ORDERS['customer_id'] > CUSTOMER['customer_id']\n",
    "# ITEMS['product_id'] > PRODUCTS['product_id']\n",
    "# ITEMS['seller_id'] > SALLER['saller_id'] -->"
   ]
  },
  {
   "cell_type": "code",
   "execution_count": 5,
   "metadata": {},
   "outputs": [
    {
     "name": "stdout",
     "output_type": "stream",
     "text": [
      "Número de ordens únicas: 99441\n",
      "Número de registros no df ordens: 99441\n"
     ]
    }
   ],
   "source": [
    "print('Número de ordens únicas:', ORDERS['order_id'].nunique())\n",
    "print('Número de registros no df ordens:', ORDERS.shape[0])"
   ]
  },
  {
   "cell_type": "code",
   "execution_count": 6,
   "metadata": {},
   "outputs": [
    {
     "name": "stdout",
     "output_type": "stream",
     "text": [
      "REVIEWS review_id 827\n",
      "REVIEWS order_id 559\n",
      "REVIEWS review_score 99995\n",
      "REVIEWS review_comment_title 95399\n",
      "REVIEWS review_comment_message 63078\n",
      "REVIEWS review_creation_date 99363\n",
      "REVIEWS review_answer_timestamp 990\n",
      "\n",
      "\n",
      "PAYMENT order_id 4446\n",
      "PAYMENT payment_sequential 103857\n",
      "PAYMENT payment_type 103881\n",
      "PAYMENT payment_installments 103862\n",
      "PAYMENT payment_value 74809\n",
      "\n",
      "\n",
      "ORDERS order_id 0\n",
      "ORDERS customer_id 0\n",
      "ORDERS order_status 99433\n",
      "ORDERS order_purchase_timestamp 566\n",
      "ORDERS order_approved_at 8707\n",
      "ORDERS order_delivered_carrier_date 18422\n",
      "ORDERS order_delivered_customer_date 3776\n",
      "ORDERS order_estimated_delivery_date 98982\n",
      "\n",
      "\n",
      "CUSTOMER customer_id 0\n",
      "CUSTOMER customer_unique_id 3345\n",
      "CUSTOMER customer_zip_code_prefix 84447\n",
      "CUSTOMER customer_city 95322\n",
      "CUSTOMER customer_state 99414\n",
      "\n",
      "\n",
      "PRODUCTS product_id 0\n",
      "PRODUCTS product_category_name 32877\n",
      "PRODUCTS product_name_lenght 32884\n",
      "PRODUCTS product_description_lenght 29990\n",
      "PRODUCTS product_photos_qty 32931\n",
      "PRODUCTS product_weight_g 30746\n",
      "PRODUCTS product_length_cm 32851\n",
      "PRODUCTS product_height_cm 32848\n",
      "PRODUCTS product_width_cm 32855\n",
      "\n",
      "\n",
      "ITEMS order_id 13984\n",
      "ITEMS order_item_id 112629\n",
      "ITEMS product_id 79699\n",
      "ITEMS seller_id 109555\n",
      "ITEMS shipping_limit_date 19332\n",
      "ITEMS price 106682\n",
      "ITEMS freight_value 105651\n",
      "\n",
      "\n",
      "SALLER seller_id 0\n",
      "SALLER seller_zip_code_prefix 849\n",
      "SALLER seller_city 2484\n",
      "SALLER seller_state 3072\n",
      "\n",
      "\n",
      "GEOLOCATION geolocation_zip_code_prefix 981148\n",
      "GEOLOCATION geolocation_lat 282803\n",
      "GEOLOCATION geolocation_lng 282550\n",
      "GEOLOCATION geolocation_city 992152\n",
      "GEOLOCATION geolocation_state 1000136\n",
      "\n",
      "\n"
     ]
    }
   ],
   "source": [
    "for df in lista_df:\n",
    "    for columns in globals()['{}'.format(df)].columns:\n",
    "        print(df, columns, globals()['{}'.format(df)][columns].duplicated().sum())\n",
    "    print('\\n')"
   ]
  },
  {
   "cell_type": "code",
   "execution_count": 7,
   "metadata": {},
   "outputs": [],
   "source": [
    "df = pd.merge(ORDERS, PAYMENT, how='left', on='order_id')\n",
    "df = df.merge(ITEMS, how='left', on='order_id')\n",
    "df = df.merge(REVIEWS, how='left', on='order_id')\n",
    "\n",
    "df = pd.merge(df, CUSTOMER, how='left', on='customer_id')\n",
    "\n",
    "df = pd.merge(df, PRODUCTS, how='left', on='product_id')\n",
    "\n",
    "df = pd.merge(df, SALLER, how='left', on='seller_id')"
   ]
  },
  {
   "cell_type": "code",
   "execution_count": 8,
   "metadata": {},
   "outputs": [],
   "source": [
    "date_columns = ['order_purchase_timestamp', 'order_approved_at', 'order_delivered_carrier_date',\n",
    "                'order_delivered_customer_date', 'order_estimated_delivery_date', 'shipping_limit_date',\n",
    "                'review_creation_date', 'review_answer_timestamp']"
   ]
  },
  {
   "cell_type": "code",
   "execution_count": 9,
   "metadata": {},
   "outputs": [],
   "source": [
    "for column in date_columns:\n",
    "    df[column] = pd.to_datetime(df[column])"
   ]
  },
  {
   "cell_type": "code",
   "execution_count": 10,
   "metadata": {
    "scrolled": true
   },
   "outputs": [
    {
     "name": "stdout",
     "output_type": "stream",
     "text": [
      "<class 'pandas.core.frame.DataFrame'>\n",
      "Int64Index: 119151 entries, 0 to 119150\n",
      "Data columns (total 39 columns):\n",
      " #   Column                         Non-Null Count   Dtype         \n",
      "---  ------                         --------------   -----         \n",
      " 0   order_id                       119151 non-null  object        \n",
      " 1   customer_id                    119151 non-null  object        \n",
      " 2   order_status                   119151 non-null  object        \n",
      " 3   order_purchase_timestamp       119151 non-null  datetime64[ns]\n",
      " 4   order_approved_at              118974 non-null  datetime64[ns]\n",
      " 5   order_delivered_carrier_date   117065 non-null  datetime64[ns]\n",
      " 6   order_delivered_customer_date  115730 non-null  datetime64[ns]\n",
      " 7   order_estimated_delivery_date  119151 non-null  datetime64[ns]\n",
      " 8   payment_sequential             119148 non-null  float64       \n",
      " 9   payment_type                   119148 non-null  object        \n",
      " 10  payment_installments           119148 non-null  float64       \n",
      " 11  payment_value                  119148 non-null  float64       \n",
      " 12  order_item_id                  118318 non-null  float64       \n",
      " 13  product_id                     118318 non-null  object        \n",
      " 14  seller_id                      118318 non-null  object        \n",
      " 15  shipping_limit_date            118318 non-null  datetime64[ns]\n",
      " 16  price                          118318 non-null  float64       \n",
      " 17  freight_value                  118318 non-null  float64       \n",
      " 18  review_id                      119151 non-null  object        \n",
      " 19  review_score                   119151 non-null  int64         \n",
      " 20  review_comment_title           14189 non-null   object        \n",
      " 21  review_comment_message         51250 non-null   object        \n",
      " 22  review_creation_date           119151 non-null  datetime64[ns]\n",
      " 23  review_answer_timestamp        119151 non-null  datetime64[ns]\n",
      " 24  customer_unique_id             119151 non-null  object        \n",
      " 25  customer_zip_code_prefix       119151 non-null  int64         \n",
      " 26  customer_city                  119151 non-null  object        \n",
      " 27  customer_state                 119151 non-null  object        \n",
      " 28  product_category_name          116609 non-null  object        \n",
      " 29  product_name_lenght            116609 non-null  float64       \n",
      " 30  product_description_lenght     116609 non-null  float64       \n",
      " 31  product_photos_qty             116609 non-null  float64       \n",
      " 32  product_weight_g               118298 non-null  float64       \n",
      " 33  product_length_cm              118298 non-null  float64       \n",
      " 34  product_height_cm              118298 non-null  float64       \n",
      " 35  product_width_cm               118298 non-null  float64       \n",
      " 36  seller_zip_code_prefix         118318 non-null  float64       \n",
      " 37  seller_city                    118318 non-null  object        \n",
      " 38  seller_state                   118318 non-null  object        \n",
      "dtypes: datetime64[ns](8), float64(14), int64(2), object(15)\n",
      "memory usage: 36.4+ MB\n"
     ]
    }
   ],
   "source": [
    "df.info()"
   ]
  },
  {
   "cell_type": "code",
   "execution_count": 12,
   "metadata": {},
   "outputs": [
    {
     "data": {
      "text/html": [
       "<div>\n",
       "<style scoped>\n",
       "    .dataframe tbody tr th:only-of-type {\n",
       "        vertical-align: middle;\n",
       "    }\n",
       "\n",
       "    .dataframe tbody tr th {\n",
       "        vertical-align: top;\n",
       "    }\n",
       "\n",
       "    .dataframe thead th {\n",
       "        text-align: right;\n",
       "    }\n",
       "</style>\n",
       "<table border=\"1\" class=\"dataframe\">\n",
       "  <thead>\n",
       "    <tr style=\"text-align: right;\">\n",
       "      <th></th>\n",
       "      <th>order_id</th>\n",
       "      <th>customer_id</th>\n",
       "      <th>order_status</th>\n",
       "      <th>order_purchase_timestamp</th>\n",
       "      <th>order_approved_at</th>\n",
       "      <th>order_delivered_carrier_date</th>\n",
       "      <th>order_delivered_customer_date</th>\n",
       "      <th>order_estimated_delivery_date</th>\n",
       "      <th>payment_sequential</th>\n",
       "      <th>payment_type</th>\n",
       "      <th>payment_installments</th>\n",
       "      <th>payment_value</th>\n",
       "      <th>order_item_id</th>\n",
       "      <th>product_id</th>\n",
       "      <th>seller_id</th>\n",
       "      <th>shipping_limit_date</th>\n",
       "      <th>price</th>\n",
       "      <th>freight_value</th>\n",
       "      <th>review_id</th>\n",
       "      <th>review_score</th>\n",
       "      <th>review_comment_title</th>\n",
       "      <th>review_comment_message</th>\n",
       "      <th>review_creation_date</th>\n",
       "      <th>review_answer_timestamp</th>\n",
       "      <th>customer_unique_id</th>\n",
       "      <th>customer_zip_code_prefix</th>\n",
       "      <th>customer_city</th>\n",
       "      <th>customer_state</th>\n",
       "      <th>product_category_name</th>\n",
       "      <th>product_name_lenght</th>\n",
       "      <th>product_description_lenght</th>\n",
       "      <th>product_photos_qty</th>\n",
       "      <th>product_weight_g</th>\n",
       "      <th>product_length_cm</th>\n",
       "      <th>product_height_cm</th>\n",
       "      <th>product_width_cm</th>\n",
       "      <th>seller_zip_code_prefix</th>\n",
       "      <th>seller_city</th>\n",
       "      <th>seller_state</th>\n",
       "    </tr>\n",
       "  </thead>\n",
       "  <tbody>\n",
       "    <tr>\n",
       "      <th>0</th>\n",
       "      <td>e481f51cbdc54678b7cc49136f2d6af7</td>\n",
       "      <td>9ef432eb6251297304e76186b10a928d</td>\n",
       "      <td>delivered</td>\n",
       "      <td>2017-10-02 10:56:33</td>\n",
       "      <td>2017-10-02 11:07:15</td>\n",
       "      <td>2017-10-04 19:55:00</td>\n",
       "      <td>2017-10-10 21:25:13</td>\n",
       "      <td>2017-10-18</td>\n",
       "      <td>1.0</td>\n",
       "      <td>credit_card</td>\n",
       "      <td>1.0</td>\n",
       "      <td>18.12</td>\n",
       "      <td>1.0</td>\n",
       "      <td>87285b34884572647811a353c7ac498a</td>\n",
       "      <td>3504c0cb71d7fa48d967e0e4c94d59d9</td>\n",
       "      <td>2017-10-06 11:07:15</td>\n",
       "      <td>29.99</td>\n",
       "      <td>8.72</td>\n",
       "      <td>a54f0611adc9ed256b57ede6b6eb5114</td>\n",
       "      <td>4</td>\n",
       "      <td>NaN</td>\n",
       "      <td>Não testei o produto ainda, mas ele veio correto e em boas condições. Apenas a caixa que veio bem amassada e danificada, o que ficará chato, pois ...</td>\n",
       "      <td>2017-10-11</td>\n",
       "      <td>2017-10-12 03:43:48</td>\n",
       "      <td>7c396fd4830fd04220f754e42b4e5bff</td>\n",
       "      <td>3149</td>\n",
       "      <td>sao paulo</td>\n",
       "      <td>SP</td>\n",
       "      <td>utilidades_domesticas</td>\n",
       "      <td>40.0</td>\n",
       "      <td>268.0</td>\n",
       "      <td>4.0</td>\n",
       "      <td>500.0</td>\n",
       "      <td>19.0</td>\n",
       "      <td>8.0</td>\n",
       "      <td>13.0</td>\n",
       "      <td>9350.0</td>\n",
       "      <td>maua</td>\n",
       "      <td>SP</td>\n",
       "    </tr>\n",
       "  </tbody>\n",
       "</table>\n",
       "</div>"
      ],
      "text/plain": [
       "                           order_id                       customer_id  \\\n",
       "0  e481f51cbdc54678b7cc49136f2d6af7  9ef432eb6251297304e76186b10a928d   \n",
       "\n",
       "  order_status order_purchase_timestamp   order_approved_at  \\\n",
       "0    delivered      2017-10-02 10:56:33 2017-10-02 11:07:15   \n",
       "\n",
       "  order_delivered_carrier_date order_delivered_customer_date  \\\n",
       "0          2017-10-04 19:55:00           2017-10-10 21:25:13   \n",
       "\n",
       "  order_estimated_delivery_date  payment_sequential payment_type  \\\n",
       "0                    2017-10-18                 1.0  credit_card   \n",
       "\n",
       "   payment_installments  payment_value  order_item_id  \\\n",
       "0                   1.0          18.12            1.0   \n",
       "\n",
       "                         product_id                         seller_id  \\\n",
       "0  87285b34884572647811a353c7ac498a  3504c0cb71d7fa48d967e0e4c94d59d9   \n",
       "\n",
       "  shipping_limit_date  price  freight_value                         review_id  \\\n",
       "0 2017-10-06 11:07:15  29.99           8.72  a54f0611adc9ed256b57ede6b6eb5114   \n",
       "\n",
       "   review_score review_comment_title  \\\n",
       "0             4                  NaN   \n",
       "\n",
       "                                                                                                                                  review_comment_message  \\\n",
       "0  Não testei o produto ainda, mas ele veio correto e em boas condições. Apenas a caixa que veio bem amassada e danificada, o que ficará chato, pois ...   \n",
       "\n",
       "  review_creation_date review_answer_timestamp  \\\n",
       "0           2017-10-11     2017-10-12 03:43:48   \n",
       "\n",
       "                 customer_unique_id  customer_zip_code_prefix customer_city  \\\n",
       "0  7c396fd4830fd04220f754e42b4e5bff                      3149     sao paulo   \n",
       "\n",
       "  customer_state  product_category_name  product_name_lenght  \\\n",
       "0             SP  utilidades_domesticas                 40.0   \n",
       "\n",
       "   product_description_lenght  product_photos_qty  product_weight_g  \\\n",
       "0                       268.0                 4.0             500.0   \n",
       "\n",
       "   product_length_cm  product_height_cm  product_width_cm  \\\n",
       "0               19.0                8.0              13.0   \n",
       "\n",
       "   seller_zip_code_prefix seller_city seller_state  \n",
       "0                  9350.0        maua           SP  "
      ]
     },
     "execution_count": 12,
     "metadata": {},
     "output_type": "execute_result"
    }
   ],
   "source": [
    "df.head(1)"
   ]
  },
  {
   "cell_type": "code",
   "execution_count": 42,
   "metadata": {},
   "outputs": [
    {
     "data": {
      "text/plain": [
       "16    8072\n",
       "14    8000\n",
       "11    7861\n",
       "13    7793\n",
       "15    7711\n",
       "10    7444\n",
       "17    7351\n",
       "20    7334\n",
       "21    7332\n",
       "12    7277\n",
       "19    7074\n",
       "22    7000\n",
       "18    6945\n",
       "9     5723\n",
       "23    4940\n",
       "8     3547\n",
       "0     2934\n",
       "7     1435\n",
       "1     1377\n",
       "2      616\n",
       "6      575\n",
       "3      328\n",
       "4      256\n",
       "5      226\n",
       "Name: order_purchase_timestamp, dtype: int64"
      ]
     },
     "execution_count": 42,
     "metadata": {},
     "output_type": "execute_result"
    }
   ],
   "source": [
    "df['order_purchase_timestamp'].dt.hour.value_counts()"
   ]
  },
  {
   "cell_type": "code",
   "execution_count": null,
   "metadata": {},
   "outputs": [],
   "source": [
    "# ## Create new columns for date,day,time,month:\n",
    "# order['weekday']=order['order_purchase_timestamp'].dt.weekday_name\n",
    "# order['year']=order['order_purchase_timestamp'].dt.year\n",
    "# order['monthday']=order['order_purchase_timestamp'].dt.day\n",
    "# order['weekday'] = order['order_purchase_timestamp'].dt.weekday\n",
    "# order['month']=order['order_purchase_timestamp'].dt.month\n",
    "# order['hour']=order['order_purchase_timestamp'].dt.hour  "
   ]
  }
 ],
 "metadata": {
  "hide_input": false,
  "kernelspec": {
   "display_name": "Python 3",
   "language": "python",
   "name": "python3"
  },
  "language_info": {
   "codemirror_mode": {
    "name": "ipython",
    "version": 3
   },
   "file_extension": ".py",
   "mimetype": "text/x-python",
   "name": "python",
   "nbconvert_exporter": "python",
   "pygments_lexer": "ipython3",
   "version": "3.9.1"
  },
  "toc": {
   "base_numbering": 1,
   "nav_menu": {},
   "number_sections": false,
   "sideBar": true,
   "skip_h1_title": false,
   "title_cell": "Table of Contents",
   "title_sidebar": "Contents",
   "toc_cell": false,
   "toc_position": {},
   "toc_section_display": true,
   "toc_window_display": false
  },
  "varInspector": {
   "cols": {
    "lenName": 16,
    "lenType": 16,
    "lenVar": 40
   },
   "kernels_config": {
    "python": {
     "delete_cmd_postfix": "",
     "delete_cmd_prefix": "del ",
     "library": "var_list.py",
     "varRefreshCmd": "print(var_dic_list())"
    },
    "r": {
     "delete_cmd_postfix": ") ",
     "delete_cmd_prefix": "rm(",
     "library": "var_list.r",
     "varRefreshCmd": "cat(var_dic_list()) "
    }
   },
   "position": {
    "height": "352.85px",
    "left": "1549px",
    "right": "20px",
    "top": "125px",
    "width": "355px"
   },
   "types_to_exclude": [
    "module",
    "function",
    "builtin_function_or_method",
    "instance",
    "_Feature"
   ],
   "window_display": true
  }
 },
 "nbformat": 4,
 "nbformat_minor": 4
}
